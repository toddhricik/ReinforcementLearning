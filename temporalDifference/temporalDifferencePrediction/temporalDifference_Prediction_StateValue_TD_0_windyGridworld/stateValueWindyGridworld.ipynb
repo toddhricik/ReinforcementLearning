{
 "cells": [
  {
   "cell_type": "code",
   "execution_count": 1,
   "metadata": {},
   "outputs": [],
   "source": [
    "from collections import OrderedDict\n",
    "import numpy as np\n",
    "import import_ipynb\n"
   ]
  },
  {
   "cell_type": "code",
   "execution_count": 2,
   "metadata": {},
   "outputs": [],
   "source": [
    "class stateValueWindyGridworld:\n",
    "    def __init__(self, stateSpaceMazeRows, stateSpaceMazeColumns, stateSpaceMazeWalls, stateSpaceWindDirections,  stateSpaceWindStrengths, actionSpace):\n",
    "        self.stateSpaceMazeRows = stateSpaceMazeRows\n",
    "        self.stateSpaceMazeColumns = stateSpaceMazeColumns\n",
    "        self.V_s = OrderedDict()\n",
    "    \n",
    "        # Initialize all values of the policy to random actions (up, down, left, right)\n",
    "        for row in self.stateSpaceMazeRows:\n",
    "            for column in self.stateSpaceMazeColumns:\n",
    "                # Set V(S_t) to a small random float for each possible value\n",
    "                self.V_s[(row, column)] = 1.0 + np.random.uniform(0,1)\n",
    "\n",
    "\n",
    "\n",
    "\n",
    "\n",
    "\n",
    "\n",
    "\n",
    "\n"
   ]
  }
 ],
 "metadata": {
  "kernelspec": {
   "display_name": "basic_python_3_9",
   "language": "python",
   "name": "python3"
  },
  "language_info": {
   "codemirror_mode": {
    "name": "ipython",
    "version": 3
   },
   "file_extension": ".py",
   "mimetype": "text/x-python",
   "name": "python",
   "nbconvert_exporter": "python",
   "pygments_lexer": "ipython3",
   "version": "3.9.18"
  }
 },
 "nbformat": 4,
 "nbformat_minor": 2
}
