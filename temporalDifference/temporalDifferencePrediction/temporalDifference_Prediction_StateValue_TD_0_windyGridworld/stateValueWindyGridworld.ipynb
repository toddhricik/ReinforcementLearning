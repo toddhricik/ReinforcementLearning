{
 "cells": [
  {
   "cell_type": "code",
   "execution_count": null,
   "metadata": {},
   "outputs": [],
   "source": [
    "from collections import OrderedDict\n",
    "import numpy as np\n",
    "import import_ipynb\n"
   ]
  },
  {
   "cell_type": "code",
   "execution_count": null,
   "metadata": {},
   "outputs": [],
   "source": [
    "class stateValueWindyGridworld:\n",
    "    def __init__(self, maze, stateSpace):\n",
    "        self.stateSpace = stateSpace\n",
    "        self.maze = maze\n",
    "        self.V_s = OrderedDict()\n",
    "\n",
    "        # Initialize all values for state value function V(S_t)\n",
    "        for i in range(stateSpace.shape[0]):\n",
    "            for j in range(stateSpace.shape[1]):\n",
    "                # Set V(S_t) to a random float for each possible value\n",
    "                self.V_s[(i, j)] = np.random.uniform(0,1)\n",
    "                "
   ]
  }
 ],
 "metadata": {
  "language_info": {
   "name": "python"
  }
 },
 "nbformat": 4,
 "nbformat_minor": 2
}
