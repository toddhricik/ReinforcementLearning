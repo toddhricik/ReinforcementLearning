{
 "cells": [
  {
   "cell_type": "code",
   "execution_count": 2,
   "metadata": {},
   "outputs": [],
   "source": [
    "from collections import OrderedDict\n",
    "import numpy as np\n",
    "import import_ipynb"
   ]
  },
  {
   "cell_type": "code",
   "execution_count": null,
   "metadata": {},
   "outputs": [],
   "source": [
    "class policyWindyGridWorld:\n",
    "    def __init__(self, stateSpace, actionSpace):\n",
    "        self.stateSpacePosition = stateSpace\n",
    "        self.actionSpace = actionSpace\n",
    "        self.pi = OrderedDict()\n",
    "    \n",
    "        # Initialize all values of the policy to random actions (up, down, left, right)\n",
    "        for i in range "
   ]
  }
 ],
 "metadata": {
  "kernelspec": {
   "display_name": "basic_python_3_9",
   "language": "python",
   "name": "python3"
  },
  "language_info": {
   "codemirror_mode": {
    "name": "ipython",
    "version": 3
   },
   "file_extension": ".py",
   "mimetype": "text/x-python",
   "name": "python",
   "nbconvert_exporter": "python",
   "pygments_lexer": "ipython3",
   "version": "3.9.18"
  }
 },
 "nbformat": 4,
 "nbformat_minor": 2
}
