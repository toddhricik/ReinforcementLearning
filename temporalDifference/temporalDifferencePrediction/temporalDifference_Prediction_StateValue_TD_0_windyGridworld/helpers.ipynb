{
 "cells": [
  {
   "cell_type": "code",
   "execution_count": 3,
   "metadata": {},
   "outputs": [
    {
     "name": "stdout",
     "output_type": "stream",
     "text": [
      "importing Jupyter notebook from envWindyGridworld.ipynb\n"
     ]
    }
   ],
   "source": [
    "import numpy as np\n",
    "import matplotlib.pyplot as plt\n",
    "import matplotlib as mpl\n",
    "import matplotlib.image as mpimg\n",
    "from IPython.display import Image\n",
    "import seaborn as sns\n",
    "import import_ipynb\n",
    "import envWindyGridworld as wgw\n",
    "# import ipynb.fs.full.envWindyGridworld as wgw"
   ]
  },
  {
   "cell_type": "code",
   "execution_count": 4,
   "metadata": {},
   "outputs": [],
   "source": [
    "\n",
    "def plotValuesPolicy(values, pi, count, mask, type):\n",
    "    text = np.empty((values.shape[0], values.shape[1]), dtype=object)\n",
    "    for i in np.arange(pi.shape[0]):\n",
    "        for j in np.arange(pi.shape[1]):\n",
    "            s = str('')\n",
    "            #s = []\n",
    "            for k in np.arange(pi.shape[2]):\n",
    "                if (np.array_equal(pi[i,j,k], np.max(pi[i,j]), equal_nan=True)):\n",
    "                    if (k == 0):\n",
    "                        s = s + 'U'\n",
    "                        #s.append('U')\n",
    "                        text[i,j] = s\n",
    "                    if (k == 1):\n",
    "                        s = s + 'D'\n",
    "                        #s.append('D')\n",
    "                        text[i,j] = s\n",
    "                    if (k == 2):\n",
    "                        s = s + 'L'\n",
    "                        #s.append('L')\n",
    "                        text[i,j] = s\n",
    "                    if (k == 3):\n",
    "                        s = s + 'R'\n",
    "                        #s.append('R')\n",
    "                        text[i,j] = s\n",
    "            \n",
    "    formatted_text = (np.asarray([\"{0}\\n{1:.3f}\".format(text, values) for text, values in zip(text.flatten(), values.flatten())])).reshape(20,20)\n",
    "    plt.figure(figsize=(15,15))\n",
    "    sns.heatmap(values, cmap='coolwarm',annot=formatted_text, fmt=\"\", mask=mask, linecolor=\"black\", linewidth=0.25, cbar=False, square=True, xticklabels=False, yticklabels=False)\n",
    "\n",
    "    path_policy_plot = str(type + \"_count\" + str(count) + \".png\") \n",
    "    plt.savefig(path_policy_plot)\n",
    "    plt.close()\n",
    "    return path_policy_plot"
   ]
  },
  {
   "cell_type": "code",
   "execution_count": null,
   "metadata": {},
   "outputs": [],
   "source": []
  }
 ],
 "metadata": {
  "kernelspec": {
   "display_name": "basic_python_3_9",
   "language": "python",
   "name": "python3"
  },
  "language_info": {
   "codemirror_mode": {
    "name": "ipython",
    "version": 3
   },
   "file_extension": ".py",
   "mimetype": "text/x-python",
   "name": "python",
   "nbconvert_exporter": "python",
   "pygments_lexer": "ipython3",
   "version": "3.9.18"
  },
  "orig_nbformat": 4,
  "vscode": {
   "interpreter": {
    "hash": "56a450c7dfd4e5ec1e847f4263cc8e8bcabd06d76b9dab54510bb1f50cf86976"
   }
  }
 },
 "nbformat": 4,
 "nbformat_minor": 2
}
