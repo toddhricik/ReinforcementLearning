{
 "cells": [
  {
   "cell_type": "markdown",
   "metadata": {},
   "source": [
    "<h2>Environment: Windy Gridworld</h2>"
   ]
  },
  {
   "cell_type": "markdown",
   "metadata": {},
   "source": [
    "The Windy Gridworld environment is composed of a class containing the maze itself, the possible actions allowed within the environment and helper functions to compute reards and trnsition probabilities of the possible moves available."
   ]
  },
  {
   "cell_type": "markdown",
   "metadata": {},
   "source": [
    "<h3>Environment Windy Gridworld: Maze</h3> "
   ]
  },
  {
   "cell_type": "markdown",
   "metadata": {},
   "source": [
    "The maze is represented as a 20x20 numpy array of integers where each elelment of the 2D array represents a position in the maze and the value of each element signifies whether the position can be occupied by the agent (i.e. position is not a wall) or not (i.e. the position is a wall)."
   ]
  },
  {
   "cell_type": "markdown",
   "metadata": {},
   "source": [
    "$$\\large maze[i,j]\n",
    "    = \n",
    "    \\begin{cases}\n",
    "    -1\\quad\\,\\,\\,\\,\\,\\,\\,\\normalsize\\text{position is a wall} \\\\\n",
    "    0\\quad\\quad \\,\\,\\,\\,\\,\\,\\normalsize\\text{position is not a wall} \n",
    "    \\end{cases}\n",
    "$$"
   ]
  },
  {
   "cell_type": "markdown",
   "metadata": {},
   "source": [
    "<h3>Environment Windy Gridworld: Wind Direction and Wind Strength</h3>"
   ]
  },
  {
   "cell_type": "markdown",
   "metadata": {},
   "source": [
    "The windDirections object is represented as a numpy array having the same shape as the maze object. Each position in the windDirections 2D numpy array holds an integer representing the direction in which the wind is blowing."
   ]
  },
  {
   "cell_type": "markdown",
   "metadata": {},
   "source": [
    "$$\\large windDirections[i,j]\n",
    "    = \n",
    "    \\begin{cases}\n",
    "    0\\quad\\quad \\,\\,\\,\\,\\,\\,\\normalsize\\text{position is not a wall and wind blows N } \\\\\n",
    "    1\\quad\\quad \\,\\,\\,\\,\\,\\,\\normalsize\\text{position is not a wall and wind blows S } \\\\\n",
    "    2\\quad\\quad \\,\\,\\,\\,\\,\\,\\normalsize\\text{position is not a wall and wind blows W } \\\\\n",
    "    3\\quad\\quad \\,\\,\\,\\,\\,\\,\\normalsize\\text{position is not a wall and wind blows E } \n",
    "    \\end{cases}\n",
    "$$"
   ]
  },
  {
   "cell_type": "markdown",
   "metadata": {},
   "source": [
    "The windStrengths object is represented as a numpy array having the same shape as the maze object. Each position in the windStrengths 2D numpy array holds an integer representing the number of positions an agent will be moved by the wind in the direction in which it is blowing."
   ]
  },
  {
   "cell_type": "markdown",
   "metadata": {},
   "source": [
    "$$\\large windStrengths[i,j]\n",
    "    = \n",
    "    \\begin{cases}\n",
    "    0\\quad\\quad \\,\\,\\,\\,\\,\\,\\normalsize\\text{position is not a wall and wind is not blowing} \\\\\n",
    "    1\\quad\\quad \\,\\,\\,\\,\\,\\,\\normalsize\\text{position is not a wall and wind blows with intensity 1 } \\\\\n",
    "    2\\quad\\quad \\,\\,\\,\\,\\,\\,\\normalsize\\text{position is not a wall and wind blows with intensity 2 } \\\\\n",
    "    3\\quad\\quad \\,\\,\\,\\,\\,\\,\\normalsize\\text{position is not a wall and wind blows with intensity 3 } \\\\\n",
    "    4\\quad\\quad \\,\\,\\,\\,\\,\\,\\normalsize\\text{position is not a wall and wind blows with intensity 4 }\n",
    "    \\end{cases}\n",
    "$$"
   ]
  },
  {
   "cell_type": "markdown",
   "metadata": {},
   "source": [
    "<h3>Environment Windy Gridworld: Mask</h3>\n"
   ]
  },
  {
   "cell_type": "markdown",
   "metadata": {},
   "source": [
    "The Windy Gridworld class contains a data member mask which is an $nxm$ numpy array that is passed to helper functions in [helpers.ipynb](helpers.ipynb) which plot the state values and policies."
   ]
  },
  {
   "cell_type": "markdown",
   "metadata": {},
   "source": [
    "<h3>Environment Windy Gridworld: State Space</h3>"
   ]
  },
  {
   "cell_type": "markdown",
   "metadata": {},
   "source": [
    "Each white square in the maze represnts a state which is a random variable denoted as $S$.\n",
    "Each observed state $s\\in S$ is defined as an ordered pair $(x, y)$ which represents the position of the agent on the grid."
   ]
  },
  {
   "cell_type": "markdown",
   "metadata": {},
   "source": [
    "$$\\large S\\coloneqq\\{(x, y): (x\\in\\mathbb{Z}) \\cap (0\\le x<n) \\bigcap (y\\in\\mathbb{Z}) \\cap (0\\le y<m)\\}$$\n"
   ]
  },
  {
   "cell_type": "markdown",
   "metadata": {},
   "source": []
  },
  {
   "cell_type": "markdown",
   "metadata": {},
   "source": [
    "<h3>Environment Windy Gridworld: Action Space"
   ]
  },
  {
   "cell_type": "markdown",
   "metadata": {},
   "source": [
    "Each action is a random variable which we denote with the symbol $A$ and there are four actions available to the agent. Action \"0\" moves the agent one step \"Up\", \"1\" moves the agent one step \"Down\", and so on and so forth for the \"2\"$\\rightarrow$\"Left\" and \"3\"$\\rightarrow$\"Right\" actions.\n"
   ]
  },
  {
   "cell_type": "markdown",
   "metadata": {},
   "source": [
    "$\\large A\\coloneqq\\{a\\in\\mathbb{Z}:\\quad\\, a=0\\text{ when agent moves \"Up\",}$<br>\n",
    "$\\large\\quad\\quad\\quad\\quad\\quad\\quad\\quad a=1\\text{ when agent moves \"Down\",}$<br>\n",
    "$\\large\\quad\\quad\\quad\\quad\\quad\\quad\\quad a=2\\text{ when agent moves \"Left\",}$<br>\n",
    "$\\large\\quad\\quad\\quad\\quad\\quad\\quad\\quad a=3\\text{ when agent moves \"Right\"}\\}$"
   ]
  },
  {
   "cell_type": "markdown",
   "metadata": {},
   "source": [
    "<h3> Environment Windy Gridworld: Episodes and Time Steps\n"
   ]
  },
  {
   "cell_type": "markdown",
   "metadata": {},
   "source": [
    "In Gridworld, an episode consists of a discrete sequence of time steps that occur from the time when the agent first begins, at the \"Start\" square on our grid, to the time at which our agent finally reaches the \"Finish\" square on the grid.\n",
    "    \n",
    "The time step is denoted by the variable $t$ and is set to zero at the beginning of the first episode. At this time our agent is located in the \"Start\" square on the grid.\n",
    "\n",
    "The time step variable $t$ is then incremented by one after each action is take by our agent until it reaches the \"Finish\" sqaure on the grid.\n",
    "\n",
    "The variable $T$ is used to represent the value of the time step $t$ upon which our agent reaches the \"Finish\" square on the grid and the episode ends.\n",
    "\n",
    "If another episode is carried out, the agent returns to the \"Start\" square and the time step variable $t$ is set to $T+1$."
   ]
  },
  {
   "cell_type": "markdown",
   "metadata": {},
   "source": [
    "$$\\large\\text{Episode }\\coloneqq\\{S_{t}, A_{t+1}, R_{t+1}\\}$$"
   ]
  },
  {
   "cell_type": "markdown",
   "metadata": {},
   "source": [
    "<h3>Environment Gridworld: Rewards</h3>"
   ]
  },
  {
   "cell_type": "markdown",
   "metadata": {},
   "source": [
    "At each time step the reward of an action taken is either -1 or 0 depending upon whether the next state is a finish line or non-finish line square on the grid. "
   ]
  },
  {
   "cell_type": "markdown",
   "metadata": {},
   "source": [
    "$$\n",
    "    \\large R_t\n",
    "    =\n",
    "    \\begin{cases}\n",
    "    0\\quad\\quad \\Large s_{t+1}\\normalsize =\\text{ finish line square on the grid } \\\\\n",
    "    -1\\quad\\, \\Large s_{t+1}\\normalsize\\neq\\text{ finish line square on the grid}\n",
    "    \\end{cases}\n",
    "    $$"
   ]
  },
  {
   "cell_type": "code",
   "execution_count": 18,
   "metadata": {},
   "outputs": [],
   "source": [
    "import numpy as np\n",
    "import import_ipynb"
   ]
  },
  {
   "cell_type": "code",
   "execution_count": 22,
   "metadata": {},
   "outputs": [],
   "source": [
    "class envWindyGridworld:\n",
    "    def __init__(self, path_to_maze, path_to_windDirections, path_to_windStrengths, start_position, finish_position):\n",
    "        \n",
    "        # load maze from numpy file\n",
    "        self._maze = np.load(path_to_maze, map_mode='r')\n",
    "        \n",
    "        # load windDirections 2d array from numpy file\n",
    "        self._windDirections = np.load(path_to_windDirections, map_mode='r')\n",
    "\n",
    "        # load windDirections 2d array from numpy file\n",
    "        self._windStrengths = np.load(path_to_windStrengths, map_mode='r')\n",
    "\n",
    "        # Mask maze walls (indicated by -1) for seaborn heatmap in helper funciton plot_values\n",
    "        self._mask = (self._maze == -1)\n",
    "\n",
    "        i_start, j_start = start_position\n",
    "        # If start position is valid (i.e. not a wall and within the grid boundary limits),\n",
    "        # then set the starting position\n",
    "        if ( (self._maze[i_start, j_start] != -1) and (i_start >= 0) and (i_start < self._maze.shape[0]) and (j_start >= 0) and (j_start < self._maze.shape[1]) ):\n",
    "            self._start_position = tuple((i_start, j_start))\n",
    "\n",
    "        i_fin, j_fin = finish_position\n",
    "        # If finish position is valid (i.e. not a wall and within the grid boundary limits),\n",
    "        # then set the final position\n",
    "        if ( (self._maze[i_fin, j_fin] != -1) and (i_fin >= 0) and (i_fin < self._maze.shape[0]) and (j_fin >= 0) and (j_fin < self._maze.shape[1]) ):\n",
    "            self._finish_position = tuple((i_fin, j_fin))\n",
    "         \n",
    "        # Define the four actions available to choose from in the environment\n",
    "            # 0 -> Up\n",
    "            # 1 -> Down\n",
    "            # 2 -> Left\n",
    "            # 3 -> Right\n",
    "        self._actions = (0, 1, 2, 3)\n",
    "        \n",
    "        # Create a 2D matrix of tuples representing the states (i.e. squares on the gird)\n",
    "        self._states = np.zeros((self._maze.shape[0], self._maze.shape[1], 2), dtype=np.int32)\n",
    "        for i in np.arange(self._maze.shape[0]):\n",
    "            for j in np.arange(self._maze.shape[1]):\n",
    "                self._states[i,j] = np.array((i,j))\n",
    "        \n",
    "    def reward(self, state, next_state):\n",
    "        # Each step towards the finsih square has a reward of -1\n",
    "        # Moving to the finish line square has a reward of 0\n",
    "        if (next_state != self._finish_position):\n",
    "            return -1\n",
    "        return 0\n",
    "\n",
    "    # <TH>import ipynb.fs.full.targetPolicyWindyGridworld as tPolicy\n",
    "\n",
    "    # This is the conditional probability of the reward and next state given the current state and action\n",
    "    # def p_sp_r_given_s_a(self, next_state, reward, state, action):\n",
    "    #   return 1.0\n",
    "    # </TH>\n",
    "\n",
    "    # This function returns the next state after choosing an action from the current state\n",
    "    # after checking to see if the action would result in hitting a maze wall resulting in the next\n",
    "    # state being reset to the current state (i.e. state does not change).\n",
    "    # This is also where the transition rules for \"windy\" poisitions on the maze are defined.\n",
    "    def transitions(self, state, next_state, action):\n",
    "        # declare a place holder for the reward obtained by making a move\n",
    "        r = 1\n",
    "        # declare a place holder for the next_state tuple\n",
    "        next_state = state\n",
    "        # declare a placeholder for the wind direction\n",
    "        windDirection = 0\n",
    "        # declare a placeholder for the wind strength\n",
    "        windStrength = 0\n",
    "        # declare a testing variable for while loops used below\n",
    "        isDone = 0\n",
    "\n",
    "        # If up action was taken\n",
    "        if (action == 0):\n",
    "            # Set the next state to the position above the current state\n",
    "            next_state = [state[0]-1, state[1]]\n",
    "            # If agent hits the upper boundary of the maze or hits wall from below\n",
    "            if ( (state[0] == 0) or (self._maze[state[0]-1, state[1]] == -1) ):\n",
    "                next_state = state\n",
    "            # If agent lands on a non-wall posiion on the maze\n",
    "            if (self._maze[state[0]-1, state[1]] > 0):\n",
    "                windDirection = self._maze[state[0]-1, state[1]]\n",
    "                # If the wind is blowing in the north direction\n",
    "                if(windDirection == 0):\n",
    "                    while( not(isDone) ):\n",
    "                        _, next_state = transitions(state=state, next_state=[state[0]-1, state[1]], action=0)\n",
    "                        if ( (state[0] == next_state[0]) and (state[1] == next_state[1]) ):\n",
    "                            isDone = 1\n",
    "                # If the wind is blowing in the east direction\n",
    "                if(windDirection == 3):\n",
    "                    while( not(isDone) ):\n",
    "                        _, next_state = transitions(state=state, next_state=[state[0], state[1]+1], action=1)\n",
    "                        if ( (state[0] == next_state[0]) and (state[1] == next_state[1]) ):\n",
    "                            isDone = 1           \n",
    "                # If the wind is blowing in the south direction\n",
    "                if(windDirection == 1):\n",
    "                    while( not(isDone) ):\n",
    "                        _, next_state = transitions(state=state, next_state=[state[0]+1, state[1]], action=3)\n",
    "                        if ( (state[0] == next_state[0]) and (state[1] == next_state[1]) ):\n",
    "                            isDone = 1\n",
    "                # If the wind is blowing in the west direction\n",
    "                if(windDirection == 2):\n",
    "                    while( not(isDone) ):\n",
    "                        _, next_state = transitions(state=state, next_state=[state[0], state[1]-1], action=4)\n",
    "                        if ( (state[0] == next_state[0]) and (state[1] == next_state[1]) ):\n",
    "                            isDone = 1\n",
    "\n",
    "        # If down action was taken\n",
    "        if (action == 1):\n",
    "            # Set the next state to the position below the current state\n",
    "            next_state = [state[0]+1, state[1]]\n",
    "            # If agent hits the bottom boundary of the maze or hit a wall from above\n",
    "            if ( (state[0] == self._maze.shape[0]-1) or (self._maze[state[0]+1, state[1]] == -1) ):\n",
    "                next_state = state\n",
    "            # If agent lands on a non-wall position on the maze\n",
    "            if (self._maze[state[0]+1, state[1]] > 0):\n",
    "                windDirection = self._maze[state[0]+1, state[1]]\n",
    "                # If the wind is blowing in the north direction\n",
    "                if(windDirection == 0):\n",
    "                    while( not(isDone) ):\n",
    "                        _, next_state = transitions(state=state, next_state=[state[0]-1, state[1]], action=0)\n",
    "                        if ( (state[0] == next_state[0]) and (state[1] == next_state[1]) ):\n",
    "                            isDone = 1\n",
    "                # If the wind is blowing in the east direction\n",
    "                if(windDirection == 3):\n",
    "                    while( not(isDone) ):\n",
    "                        _, next_state = transitions(state=state, next_state=[state[0], state[1]+1], action=3)\n",
    "                        if ( (state[0] == next_state[0]) and (state[1] == next_state[1]) ):\n",
    "                            isDone = 1           \n",
    "                # If the wind is blowing in the south direction\n",
    "                if(windDirection == 1):\n",
    "                    while( not(isDone) ):\n",
    "                        _, next_state = transitions(state=state, next_state=[state[0]+1, state[1]], action=2)\n",
    "                        if ( (state[0] == next_state[0]) and (state[1] == next_state[1]) ):\n",
    "                            isDone = 1\n",
    "                # If the wind is blowing in the west direction\n",
    "                if(windDirection == 2):\n",
    "                    while( not(isDone) ):\n",
    "                        _, next_state = transitions(state=state, next_state=[state[0], state[1]-1], action=3)\n",
    "                        if ( (state[0] == next_state[0]) and (state[1] == next_state[1]) ):\n",
    "                            isDone = 1\n",
    "\n",
    "        # if left action is taken\n",
    "        if (action == 2):\n",
    "            # Set the next state to the position to the left of the current state\n",
    "            next_state = [state[0], state[1]-1]\n",
    "            # If the agent hit the left boundary of maze or hit a wall from the right\n",
    "            if ( (state[1] == 0) or (self._maze[state[0], state[1]-1] == -1) ):\n",
    "                next_state = state\n",
    "            # If agent lands on a non-wall position on the maze\n",
    "            if (self._maze[state[0], state[1]-1] > 0):\n",
    "                windDirection = self._maze[state[0], state[1]-1]\n",
    "                # If the wind is blowing in the north direction\n",
    "                if(windDirection == 0):\n",
    "                    while( not(isDone) ):\n",
    "                        _, next_state = transitions(state=state, next_state=[state[0]-1, state[1]], action=0)\n",
    "                        if ( (state[0] == next_state[0]) and (state[1] == next_state[1]) ):\n",
    "                            isDone = 1\n",
    "                # If the wind is blowing in the east direction\n",
    "                if(windDirection == 3):\n",
    "                    while( not(isDone) ):\n",
    "                        _, next_state = transitions(state=state, next_state=[state[0], state[1]+1], action=3)\n",
    "                        if ( (state[0] == next_state[0]) and (state[1] == next_state[1]) ):\n",
    "                            isDone = 1           \n",
    "                # If the wind is blowing in the south direction\n",
    "                if(windDirection == 1):\n",
    "                    while( not(isDone) ):\n",
    "                        _, next_state = transitions(state=state, next_state=[state[0]+1, state[1]], action=1)\n",
    "                        if ( (state[0] == next_state[0]) and (state[1] == next_state[1]) ):\n",
    "                            isDone = 1\n",
    "                # If the wind is blowing in the west direction\n",
    "                if(windDirection == 2):\n",
    "                    while( not(isDone) ):\n",
    "                        _, next_state = transitions(state=state, next_state=[state[0], state[1]-1], action=2)\n",
    "                        if ( (state[0] == next_state[0]) and (state[1] == next_state[1]) ):\n",
    "                            isDone = 1\n",
    "\n",
    "        # If action to move right is taken\n",
    "        if (action == 3):\n",
    "            # Set the next state to the position to the right of the current state\n",
    "            next_state = [state[0], state[1]+1]\n",
    "            # Hit the right boundary of maze or hit a wall from the left\n",
    "            if ( (state[1] == self._maze.shape[1]-1) or (self._maze[state[0], state[1]+1] == -1) ):\n",
    "                next_state = state\n",
    "            # If agent lands on a non-wall position on the maze\n",
    "            if (self._maze[state[0], state[1]+1] > 0):\n",
    "                windDirection = self._maze[state[0], state[1]+1]\n",
    "                # If the wind is blowing in the north direction\n",
    "                if(windDirection == 0):\n",
    "                    while( not(isDone) ):\n",
    "                        _, next_state = transitions(state=state, next_state=[state[0]-1, state[1]], action=0)\n",
    "                        if ( (state[0] == next_state[0]) and (state[1] == next_state[1]) ):\n",
    "                            isDone = 1\n",
    "                # If the wind is blowing in the east direction\n",
    "                if(windDirection == 3):\n",
    "                    while( not(isDone) ):\n",
    "                        _, next_state = transitions(state=state, next_state=[state[0], state[1]+1], action=3)\n",
    "                        if ( (state[0] == next_state[0]) and (state[1] == next_state[1]) ):\n",
    "                            isDone = 1           \n",
    "                # If the wind is blowing in the south direction\n",
    "                if(windDirection == 1):\n",
    "                    while( not(isDone) ):\n",
    "                        _, next_state = transitions(state=state, next_state=[state[0]+1, state[1]], action=1)\n",
    "                        if ( (state[0] == next_state[0]) and (state[1] == next_state[1]) ):\n",
    "                            isDone = 1\n",
    "                # If the wind is blowing in the west direction\n",
    "                if(windDirection == 2):\n",
    "                    while( not(isDone) ):\n",
    "                        _, next_state = transitions(state=state, next_state=[state[0], state[1]-1], action=2)\n",
    "                        if ( (state[0] == next_state[0]) and (state[1] == next_state[1]) ):\n",
    "                            isDone = 1\n",
    "\n",
    "        # Compute the reward for going to the next state\n",
    "        r = self.reward(state, next_state)\n",
    "\n",
    "        # <TH>\n",
    "        # p = self.p_sp_r_given_s_a(next_state, r, state, action)\n",
    "        # </TH>\n",
    "        return next_state, r# <TH> , p </TH>\n",
    "    \n",
    "    # Getters and setters via property decorators\n",
    "    @property\n",
    "    def FinishPosition(self):\n",
    "        return self._finish_position\n",
    "    @FinishPosition.setter\n",
    "    def FinishPosition(self, finish_position):\n",
    "        i, j = finish_position\n",
    "        print((i,j))\n",
    "        if (self._maze[i,j] == -1):\n",
    "            raise Exception(\"Tuple finish position is a wall in the maze\")\n",
    "            #print(\"Please choose a position that does not represent a wall in the maze\")\n",
    "        if(i < 0 or i > self._maze.shape[0] -1 or j < 0 or j > self._maze.shape[1]-1):\n",
    "            raise Exception(\"Tuple finish_position is not valid\")\n",
    "        self._finish_position = tuple((i, j))\n",
    "        return\n",
    "    @property\n",
    "    def StartPosition(self):\n",
    "        return self._finish_position\n",
    "    @StartPosition.setter\n",
    "    def StartPosition(self, start_position):\n",
    "        i, j = start_position\n",
    "        print((i,j))\n",
    "        if (self._maze[i,j] == -1):\n",
    "            raise Exception(\"Tuple start position is a wall in the maze\")\n",
    "            #print(\"Please choose a position that does not represent a wall in the maze\")\n",
    "        if(i < 0 or i > self._maze.shape[0] -1 or j < 0 or j > self._maze.shape[1]-1):\n",
    "            raise Exception(\"Tuple start_position is not valid\")\n",
    "        self._start_position = tuple((i, j))\n",
    "        return\n",
    "    @property\n",
    "    def States(self):\n",
    "        return self._states\n",
    "    @property\n",
    "    def Actions(self):\n",
    "        return self._actions\n",
    "    @property\n",
    "    def Maze(self):\n",
    "        return self._maze\n",
    "    @property\n",
    "    def Mask(self):\n",
    "        return self._mask"
   ]
  },
  {
   "cell_type": "markdown",
   "metadata": {},
   "source": [
    "<h2>Instantiate a Windy Gridworld object</h2>"
   ]
  },
  {
   "cell_type": "code",
   "execution_count": 12,
   "metadata": {},
   "outputs": [],
   "source": [
    "# Set a finsih position\n",
    "#fin_position = (0,4)\n",
    "\n",
    "# Instantiate a Gridworld object\n",
    "#ex_gridworld = envGridworld(path_to_maze='./maze2.npy', finish_position=fin_position)"
   ]
  },
  {
   "cell_type": "code",
   "execution_count": 13,
   "metadata": {},
   "outputs": [],
   "source": [
    "# Get the maze data member\n",
    "#ex_gridworld.Maze"
   ]
  },
  {
   "cell_type": "code",
   "execution_count": 14,
   "metadata": {},
   "outputs": [],
   "source": [
    "# Get the maze actions available\n",
    "#ex_gridworld.Actions"
   ]
  },
  {
   "cell_type": "code",
   "execution_count": 15,
   "metadata": {},
   "outputs": [],
   "source": [
    "# Set and get the finish lize position on the grid\n",
    "#ex_gridworld.finish_position = (0,0)\n",
    "#ex_gridworld.finish_position"
   ]
  },
  {
   "cell_type": "code",
   "execution_count": 16,
   "metadata": {},
   "outputs": [],
   "source": [
    "# Get the maze mask\n",
    "#ex_gridworld.Mask"
   ]
  },
  {
   "cell_type": "code",
   "execution_count": 17,
   "metadata": {},
   "outputs": [],
   "source": [
    "# Delete the gridworld object\n",
    "#del ex_gridworld"
   ]
  }
 ],
 "metadata": {
  "kernelspec": {
   "display_name": "basic_python_3_9",
   "language": "python",
   "name": "python3"
  },
  "language_info": {
   "codemirror_mode": {
    "name": "ipython",
    "version": 3
   },
   "file_extension": ".py",
   "mimetype": "text/x-python",
   "name": "python",
   "nbconvert_exporter": "python",
   "pygments_lexer": "ipython3",
   "version": "3.9.18"
  }
 },
 "nbformat": 4,
 "nbformat_minor": 2
}
