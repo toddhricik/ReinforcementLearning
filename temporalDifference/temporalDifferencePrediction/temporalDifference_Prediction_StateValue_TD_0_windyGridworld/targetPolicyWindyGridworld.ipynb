{
 "cells": [
  {
   "cell_type": "code",
   "execution_count": 4,
   "metadata": {},
   "outputs": [],
   "source": [
    "from collections import OrderedDict\n",
    "import import_ipynb"
   ]
  },
  {
   "cell_type": "code",
   "execution_count": 5,
   "metadata": {},
   "outputs": [],
   "source": [
    "class policyWindyGridworld:\n",
    "    def __init__(self, stateSpaceMazeRows, stateSpaceMazeColumns, actionSpace):\n",
    "        self.stateSpaceMazeRows = stateSpaceMazeRows\n",
    "        self.stateSpaceMazeColumns = stateSpaceMazeColumns\n",
    "        self.actionSpace = actionSpace\n",
    "        self.pi = OrderedDict()\n",
    "    \n",
    "        # Initialize all values of the policy to random actions (up, down, left, right)\n",
    "        for row in self.stateSpaceRows:\n",
    "            for column in self.stateSpaceColumns:\n",
    "                for action in self.actionSpace:\n",
    "                        self.pi[(row, column), action] = 0.25\n",
    "    @property\n",
    "    def Pi(self):\n",
    "        return self.pi\n"
   ]
  },
  {
   "cell_type": "code",
   "execution_count": null,
   "metadata": {},
   "outputs": [],
   "source": []
  }
 ],
 "metadata": {
  "kernelspec": {
   "display_name": "basic_python_3_9",
   "language": "python",
   "name": "python3"
  },
  "language_info": {
   "codemirror_mode": {
    "name": "ipython",
    "version": 3
   },
   "file_extension": ".py",
   "mimetype": "text/x-python",
   "name": "python",
   "nbconvert_exporter": "python",
   "pygments_lexer": "ipython3",
   "version": "3.9.18"
  }
 },
 "nbformat": 4,
 "nbformat_minor": 2
}
