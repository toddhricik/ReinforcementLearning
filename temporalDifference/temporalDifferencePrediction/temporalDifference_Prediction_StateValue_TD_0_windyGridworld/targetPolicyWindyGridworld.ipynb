{
 "cells": [
  {
   "cell_type": "code",
   "execution_count": 2,
   "metadata": {},
   "outputs": [],
   "source": [
    "from collections import OrderedDict\n",
    "import numpy as np\n",
    "import import_ipynb"
   ]
  },
  {
   "cell_type": "code",
   "execution_count": 1,
   "metadata": {},
   "outputs": [],
   "source": [
    "class policyWindyGridWorld:\n",
    "    def __init__(self, stateSpaceMazeRows, stateSpaceMazeColumns, stateSpaceMazeWalls, stateSpaceWindDirections,  stateSpaceWindStrengths, actionSpace):\n",
    "        self.stateSpaceMazeRows = stateSpaceMazeRows\n",
    "        self.stateSpaceMazeColumns = stateSpaceMazeColumns\n",
    "        self.actionSpace = actionSpace\n",
    "        self.pi = OrderedDict()\n",
    "    \n",
    "        # Initialize all values of the policy to random actions (up, down, left, right)\n",
    "        for row in self.stateSpaceRows:\n",
    "            for column in self.stateSpaceColumns:\n",
    "                for action in self.actionSpace:\n",
    "                        self.pi[(row, column), action] = 0.25\n"
   ]
  },
  {
   "cell_type": "code",
   "execution_count": null,
   "metadata": {},
   "outputs": [],
   "source": []
  }
 ],
 "metadata": {
  "kernelspec": {
   "display_name": "basic_python_3_9",
   "language": "python",
   "name": "python3"
  },
  "language_info": {
   "codemirror_mode": {
    "name": "ipython",
    "version": 3
   },
   "file_extension": ".py",
   "mimetype": "text/x-python",
   "name": "python",
   "nbconvert_exporter": "python",
   "pygments_lexer": "ipython3",
   "version": "3.9.18"
  }
 },
 "nbformat": 4,
 "nbformat_minor": 2
}
