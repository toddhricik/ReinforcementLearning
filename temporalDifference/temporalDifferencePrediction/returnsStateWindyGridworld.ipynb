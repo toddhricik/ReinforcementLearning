{
 "cells": [
  {
   "cell_type": "code",
   "execution_count": null,
   "metadata": {},
   "outputs": [],
   "source": [
    "from collections import OrderedDict\n",
    "import numpy as np\n",
    "import import_ipynb\n"
   ]
  },
  {
   "cell_type": "code",
   "execution_count": null,
   "metadata": {},
   "outputs": [],
   "source": [
    "class returnsStateWindyGridworld:\n",
    "    def __init__(self, stateSpace):\n",
    "        self.stateSpace = stateSpace\n",
    "        self.R_s = OrderedDict()\n",
    "\n",
    "        # Initialize all values from their respective R(S_t) keys to an empty list\n",
    "        for i in self.stateSpace.shape[0]:\n",
    "            for j in self.stateSpace.shape[1]:\n",
    "                self.R_s[(i, j)] = []"
   ]
  }
 ],
 "metadata": {
  "language_info": {
   "name": "python"
  }
 },
 "nbformat": 4,
 "nbformat_minor": 2
}
