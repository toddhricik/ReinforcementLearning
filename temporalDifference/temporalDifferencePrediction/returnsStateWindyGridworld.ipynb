{
 "cells": [
  {
   "cell_type": "code",
   "execution_count": 1,
   "metadata": {},
   "outputs": [],
   "source": [
    "from collections import OrderedDict\n",
    "import numpy as np\n",
    "import import_ipynb\n"
   ]
  },
  {
   "cell_type": "code",
   "execution_count": 2,
   "metadata": {},
   "outputs": [],
   "source": [
    "class returnsStateWindyGridworld:\n",
    "    def __init__(self, stateSpaceMazeRows, stateSpaceMazeColumns, stateSpaceMazeWalls, stateSpaceWindDirections,  stateSpaceWindStrengths, actionSpace):\n",
    "        self.stateSpaceMazeRows = stateSpaceMazeRows\n",
    "        self.stateSpaceMazeColumns = stateSpaceMazeColumns\n",
    "        self.actionSpace = actionSpace\n",
    "        self.R_s = OrderedDict()\n",
    "\n",
    "        # Initialize all values from their respective R(S_t) keys to an empty list\n",
    "        for row in self.stateSpaceMazeRows:\n",
    "            for column in self.stateSpaceMazeColumns:\n",
    "                for action in self.actionSpace:\n",
    "                    self.R_s[(row, column), action] = []"
   ]
  }
 ],
 "metadata": {
  "kernelspec": {
   "display_name": "basic_python_3_9",
   "language": "python",
   "name": "python3"
  },
  "language_info": {
   "codemirror_mode": {
    "name": "ipython",
    "version": 3
   },
   "file_extension": ".py",
   "mimetype": "text/x-python",
   "name": "python",
   "nbconvert_exporter": "python",
   "pygments_lexer": "ipython3",
   "version": "3.9.18"
  }
 },
 "nbformat": 4,
 "nbformat_minor": 2
}
