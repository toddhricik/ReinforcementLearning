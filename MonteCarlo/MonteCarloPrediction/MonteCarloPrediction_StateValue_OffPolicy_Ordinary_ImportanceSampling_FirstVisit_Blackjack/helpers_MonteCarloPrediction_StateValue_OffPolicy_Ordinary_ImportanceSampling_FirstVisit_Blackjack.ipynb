{
 "cells": [
  {
   "cell_type": "code",
   "execution_count": 1,
   "metadata": {},
   "outputs": [],
   "source": [
    "import numpy as np\n",
    "from collections import OrderedDict\n",
    "import statistics as stat\n",
    "import matplotlib.pyplot as plt\n",
    "import seaborn as sns\n",
    "from datetime import datetime\n",
    "import matplotlib as mpl\n",
    "import matplotlib.image as mpimg\n",
    "from IPython.display import Image\n",
    "import import_ipynb\n",
    "from collections import defaultdict\n",
    "import seaborn as sns\n",
    "from matplotlib.patches import Patch"
   ]
  },
  {
   "cell_type": "code",
   "execution_count": 2,
   "metadata": {},
   "outputs": [],
   "source": [
    "def create_state_value_grid(V_s, usable_ace=True):\n",
    "    \"\"\"Create value and policy grid given an agent.\"\"\"\n",
    "    # and build a policy dictionary that maps observations to actions\n",
    "    estimatedStateValue = np.zeros((11, 10), dtype=np.float32)  \n",
    "    policyActions = np.zeros((11, 10), dtype=np.int32)\n",
    "    for i in range(10, 21):\n",
    "        for j in range(1, 11):\n",
    "            estimatedStateValue[i-11, j-1] = V_s.V_s[(i, j, usable_ace)] \n",
    "#            policyActions[i-11, j-1] = 0 if ( pi.pi[((i, j, usable_ace), 0)] > pi.pi[((i, j, usable_ace), 1)] ) else 1\n",
    "    playerSum, dealerShows = np.meshgrid(\n",
    "        # players count, dealers face-up card\n",
    "        np.arange(10, 21),\n",
    "        np.arange(1, 11),\n",
    "    )\n",
    "    # create the value grid for plotting\n",
    "    value = np.apply_along_axis(\n",
    "        lambda obs: estimatedStateValue[obs[0]-11, obs[1]-1],\n",
    "        axis=2,\n",
    "        arr=np.dstack([playerSum, dealerShows]),\n",
    "    )\n",
    "    value_grid = playerSum, dealerShows, value\n",
    "    # create the policy grid for plotting\n",
    "#    policy_grid = np.apply_along_axis(\n",
    "#        lambda obs: policyActions[obs[0]-11, obs[1]-1],\n",
    "#        axis=2,\n",
    "#        arr=np.dstack([playerSum, dealerShows]),\n",
    "#    )\n",
    "    return value_grid\n"
   ]
  },
  {
   "cell_type": "code",
   "execution_count": 1,
   "metadata": {},
   "outputs": [],
   "source": [
    "def create_state_value_plot(value_grid, title, fileName, numEpisodes, runNum, discountFactor, firstVisit, usableAce):\n",
    "    # create a new figure with 2 subplots (left: state values, right: policy)\n",
    "    player_count, dealer_count, value = value_grid\n",
    "    #fig = plt.figure(figsize=plt.figaspect(0.4))\n",
    "    fig = plt.figure(figsize=plt.figaspect(0.6))\n",
    "    fig.suptitle(title, fontsize=16)\n",
    "    # plot the state values\n",
    "    ax1 = fig.add_subplot(1, 1, 1, projection=\"3d\")\n",
    "    ax1.plot_surface(\n",
    "        player_count,\n",
    "        dealer_count,\n",
    "        value,\n",
    "        rstride=1,\n",
    "        cstride=1,\n",
    "        cmap=\"viridis\",\n",
    "        edgecolor=\"none\",\n",
    "    )\n",
    "    plt.xticks(range(10, 21), range(10, 21), fontsize=10)#, range(10, 22))\n",
    "    plt.yticks(range(1, 11), [\"A\"] + list(range(2, 11)), fontsize=12)\n",
    "    ax1.set_title(f\"\")\n",
    "    ax1.set_xlabel(\"Player sum\", fontsize=12, rotation=45)\n",
    "    ax1.set_ylabel(\"Dealer showing\")\n",
    "    ax1.zaxis.set_rotate_label(False)\n",
    "    ax1.set_zlabel(\"State Value Function V(S)\\n(following \\u03C0) \", fontsize=14, rotation=90)\n",
    "    ax1.view_init(20, 220)\n",
    "    # Save the action value and policy plot to file\n",
    "    plt.savefig(fileName)\n",
    "    # Close the plot\n",
    "    plt.close()"
   ]
  },
  {
   "cell_type": "code",
   "execution_count": null,
   "metadata": {},
   "outputs": [],
   "source": []
  }
 ],
 "metadata": {
  "kernelspec": {
   "display_name": "basic_python_3_9_kernel",
   "language": "python",
   "name": "basic_python_3_9_kernel"
  },
  "language_info": {
   "codemirror_mode": {
    "name": "ipython",
    "version": 3
   },
   "file_extension": ".py",
   "mimetype": "text/x-python",
   "name": "python",
   "nbconvert_exporter": "python",
   "pygments_lexer": "ipython3",
   "version": "3.9.15"
  },
  "orig_nbformat": 4,
  "vscode": {
   "interpreter": {
    "hash": "56a450c7dfd4e5ec1e847f4263cc8e8bcabd06d76b9dab54510bb1f50cf86976"
   }
  }
 },
 "nbformat": 4,
 "nbformat_minor": 2
}
