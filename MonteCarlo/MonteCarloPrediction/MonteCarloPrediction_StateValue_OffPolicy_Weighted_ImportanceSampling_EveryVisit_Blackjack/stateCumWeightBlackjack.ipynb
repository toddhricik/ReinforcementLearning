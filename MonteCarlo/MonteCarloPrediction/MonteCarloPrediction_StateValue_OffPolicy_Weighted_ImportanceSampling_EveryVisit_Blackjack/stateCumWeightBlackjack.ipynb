{
 "cells": [
  {
   "cell_type": "code",
   "execution_count": 1,
   "metadata": {},
   "outputs": [],
   "source": [
    "from collections import OrderedDict\n",
    "import numpy as np\n",
    "import import_ipynb\n"
   ]
  },
  {
   "cell_type": "code",
   "execution_count": 2,
   "metadata": {},
   "outputs": [],
   "source": [
    "class stateCumWeightBlackjack:\n",
    "    def __init__(self, stateSpacePlayerSum, stateSpaceDealerShows, stateSpaceUsableAce):\n",
    "        self.stateSpacePlayerSum = stateSpacePlayerSum\n",
    "        self.stateSpaceDealerShows = stateSpaceDealerShows\n",
    "        self.stateSpaceUsableAce = stateSpaceUsableAce\n",
    "        self.C_s = OrderedDict()\n",
    "        \n",
    "        # Initialize all values for all possible states\n",
    "        for sum in self.stateSpacePlayerSum:\n",
    "            for dealerShows in self.stateSpaceDealerShows:\n",
    "                for usableAce in self.stateSpaceUsableAce:\n",
    "                    # Set V(s,a) to a random float for each possible Q(s,a) pair\n",
    "                    self.C_s[(sum, dealerShows, usableAce)] = 0.0\n",
    "                        "
   ]
  },
  {
   "cell_type": "code",
   "execution_count": null,
   "metadata": {},
   "outputs": [],
   "source": []
  }
 ],
 "metadata": {
  "kernelspec": {
   "display_name": "basic_python_3_9_kernel",
   "language": "python",
   "name": "basic_python_3_9_kernel"
  },
  "language_info": {
   "codemirror_mode": {
    "name": "ipython",
    "version": 3
   },
   "file_extension": ".py",
   "mimetype": "text/x-python",
   "name": "python",
   "nbconvert_exporter": "python",
   "pygments_lexer": "ipython3",
   "version": "3.9.15"
  },
  "orig_nbformat": 4,
  "vscode": {
   "interpreter": {
    "hash": "56a450c7dfd4e5ec1e847f4263cc8e8bcabd06d76b9dab54510bb1f50cf86976"
   }
  }
 },
 "nbformat": 4,
 "nbformat_minor": 2
}
