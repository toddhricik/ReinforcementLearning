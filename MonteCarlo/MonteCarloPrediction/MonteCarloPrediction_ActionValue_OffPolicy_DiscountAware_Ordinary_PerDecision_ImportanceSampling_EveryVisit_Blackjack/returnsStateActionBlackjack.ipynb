{
 "cells": [
  {
   "cell_type": "code",
   "execution_count": 1,
   "metadata": {},
   "outputs": [],
   "source": [
    "from collections import OrderedDict\n",
    "import import_ipynb"
   ]
  },
  {
   "cell_type": "code",
   "execution_count": 2,
   "metadata": {},
   "outputs": [],
   "source": [
    "class returnsStateActionBlackjack:\n",
    "    def __init__(self, stateSpacePlayerSum:list, stateSpaceDealerShows:list, stateSpaceUsableAce:list, actionSpace:list):\n",
    "        self.stateSapcePlayerSum = stateSpacePlayerSum\n",
    "        self.stateSpaceDealerShows = stateSpaceDealerShows\n",
    "        self.stateSpaceUsableAce = stateSpaceUsableAce\n",
    "        self.actionSpace = actionSpace\n",
    "        self.R_s_a = OrderedDict()\n",
    "\n",
    "        # Initialize all values of R(S_t, A_t) to an empty list\n",
    "        for sum in stateSpacePlayerSum:\n",
    "            for dealerShows in stateSpaceDealerShows:\n",
    "                for usableAce in stateSpaceUsableAce:\n",
    "                    for action in actionSpace:\n",
    "                        # Set the key of the reuturns dictionary to the state action pair and create an empty list\n",
    "                        # for the value which will hold the list of returns\n",
    "                        self.R_s_a[((sum, dealerShows, usableAce), action)] = [] \n",
    "            \n",
    "        "
   ]
  },
  {
   "cell_type": "code",
   "execution_count": null,
   "metadata": {},
   "outputs": [],
   "source": []
  }
 ],
 "metadata": {
  "kernelspec": {
   "display_name": "basic_python_3_9",
   "language": "python",
   "name": "python3"
  },
  "language_info": {
   "codemirror_mode": {
    "name": "ipython",
    "version": 3
   },
   "file_extension": ".py",
   "mimetype": "text/x-python",
   "name": "python",
   "nbconvert_exporter": "python",
   "pygments_lexer": "ipython3",
   "version": "3.9.15"
  },
  "orig_nbformat": 4,
  "vscode": {
   "interpreter": {
    "hash": "56a450c7dfd4e5ec1e847f4263cc8e8bcabd06d76b9dab54510bb1f50cf86976"
   }
  }
 },
 "nbformat": 4,
 "nbformat_minor": 2
}
