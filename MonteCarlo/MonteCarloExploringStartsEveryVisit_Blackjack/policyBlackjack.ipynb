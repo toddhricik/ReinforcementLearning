{
 "cells": [
  {
   "cell_type": "code",
   "execution_count": 1,
   "metadata": {},
   "outputs": [],
   "source": [
    "from collections import OrderedDict\n",
    "import numpy as np\n",
    "import import_ipynb"
   ]
  },
  {
   "cell_type": "code",
   "execution_count": 2,
   "metadata": {},
   "outputs": [],
   "source": [
    "class policyBlackjack:\n",
    "    def __init__(self, stateSpacePlayerSum, stateSpaceDealerShows, stateSpaceUsableAce, actionSpace):\n",
    "        self.stateSapcePlayerSum = stateSpacePlayerSum\n",
    "        self.stateSpaceDealerShows = stateSpaceDealerShows\n",
    "        self.stateSpaceUsableAce = stateSpaceUsableAce\n",
    "        self.actionSpace = actionSpace\n",
    "        self.pi = OrderedDict()\n",
    "\n",
    "        # Initialize all values of the policy to random actions {0=stick or 1=hit}\n",
    "        for sum in stateSpacePlayerSum:\n",
    "            for dealerShows in stateSpaceDealerShows:\n",
    "                for usableAce in stateSpaceUsableAce:\n",
    "                    for action in actionSpace:\n",
    "                        # Set the initial policy to randomly hit or stick for each possible state\n",
    "                        self.pi[((sum, dealerShows, usableAce), action)] = np.random.choice(actionSpace)\n",
    "\n"
   ]
  },
  {
   "cell_type": "code",
   "execution_count": null,
   "metadata": {},
   "outputs": [],
   "source": [
    "        \n",
    "\n",
    "\n"
   ]
  }
 ],
 "metadata": {
  "kernelspec": {
   "display_name": "basic_python_3_9",
   "language": "python",
   "name": "python3"
  },
  "language_info": {
   "codemirror_mode": {
    "name": "ipython",
    "version": 3
   },
   "file_extension": ".py",
   "mimetype": "text/x-python",
   "name": "python",
   "nbconvert_exporter": "python",
   "pygments_lexer": "ipython3",
   "version": "3.9.15"
  },
  "orig_nbformat": 4
 },
 "nbformat": 4,
 "nbformat_minor": 2
}
