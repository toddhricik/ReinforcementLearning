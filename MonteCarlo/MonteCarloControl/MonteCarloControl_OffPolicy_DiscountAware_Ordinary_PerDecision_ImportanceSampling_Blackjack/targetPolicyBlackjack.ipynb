{
 "cells": [
  {
   "cell_type": "code",
   "execution_count": 3,
   "metadata": {},
   "outputs": [],
   "source": [
    "from collections import OrderedDict\n",
    "import numpy as np\n",
    "import import_ipynb"
   ]
  },
  {
   "cell_type": "code",
   "execution_count": 4,
   "metadata": {},
   "outputs": [],
   "source": [
    "class targetPolicyBlackjack:\n",
    "    def __init__(self, stateSpacePlayerSum, stateSpaceDealerShows, stateSpaceUsableAce, actionSpace):\n",
    "        self.stateSapcePlayerSum = stateSpacePlayerSum\n",
    "        self.stateSpaceDealerShows = stateSpaceDealerShows\n",
    "        self.stateSpaceUsableAce = stateSpaceUsableAce\n",
    "        self.actionSpace = actionSpace\n",
    "        self.pi = OrderedDict()\n",
    "\n",
    "        # Initialize all values of the policy to random actions {0=stick or 1=hit}\n",
    "        for sum in stateSpacePlayerSum:\n",
    "            for dealerShows in stateSpaceDealerShows:\n",
    "                for usableAce in stateSpaceUsableAce:\n",
    "                    # Generate random number\n",
    "                    x = np.random.uniform()\n",
    "                    if (x > 0.5):\n",
    "                        self.pi[((sum, dealerShows, usableAce), 0)] = 1.0\n",
    "                        self.pi[((sum, dealerShows, usableAce), 1)] = 0.0\n",
    "                    else:\n",
    "                        self.pi[((sum, dealerShows, usableAce), 0)] = 0.0\n",
    "                        self.pi[((sum, dealerShows, usableAce), 1)] = 1.0 \n"
   ]
  },
  {
   "cell_type": "code",
   "execution_count": null,
   "metadata": {},
   "outputs": [],
   "source": [
    "        \n",
    "\n",
    "\n"
   ]
  }
 ],
 "metadata": {
  "kernelspec": {
   "display_name": "basic_python_3_9_kernel",
   "language": "python",
   "name": "basic_python_3_9_kernel"
  },
  "language_info": {
   "codemirror_mode": {
    "name": "ipython",
    "version": 3
   },
   "file_extension": ".py",
   "mimetype": "text/x-python",
   "name": "python",
   "nbconvert_exporter": "python",
   "pygments_lexer": "ipython3",
   "version": "3.9.15"
  },
  "orig_nbformat": 4
 },
 "nbformat": 4,
 "nbformat_minor": 2
}
